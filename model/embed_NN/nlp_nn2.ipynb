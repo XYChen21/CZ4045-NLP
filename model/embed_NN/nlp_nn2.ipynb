{
  "cells": [
    {
      "cell_type": "code",
      "execution_count": null,
      "metadata": {
        "id": "BypmzfzZkaoA"
      },
      "outputs": [],
      "source": [
        "!python -m spacy download en_core_web_lg"
      ]
    },
    {
      "cell_type": "code",
      "execution_count": 5,
      "metadata": {
        "id": "dCAWtMFugt_V"
      },
      "outputs": [],
      "source": [
        "import spacy\n",
        "nlp = spacy.load('en_core_web_lg')"
      ]
    },
    {
      "cell_type": "code",
      "execution_count": 3,
      "metadata": {
        "colab": {
          "base_uri": "https://localhost:8080/"
        },
        "id": "Z97TwMXqVESo",
        "outputId": "e5655265-b222-4d3a-f987-57c90dc27bc9"
      },
      "outputs": [
        {
          "name": "stdout",
          "output_type": "stream",
          "text": [
            "Drive already mounted at /content/drive/; to attempt to forcibly remount, call drive.mount(\"/content/drive/\", force_remount=True).\n"
          ]
        }
      ],
      "source": [
        "from google.colab import drive\n",
        "drive.mount('/content/drive/')"
      ]
    },
    {
      "cell_type": "code",
      "execution_count": 6,
      "metadata": {
        "id": "LrnKVvkii-dx"
      },
      "outputs": [],
      "source": [
        "import pandas as pd \n",
        "import numpy as np"
      ]
    },
    {
      "cell_type": "code",
      "execution_count": 5,
      "metadata": {
        "colab": {
          "base_uri": "https://localhost:8080/",
          "height": 204
        },
        "id": "HNbPRZqCjZ3k",
        "outputId": "94770a86-c994-4999-9373-8862210d3255"
      },
      "outputs": [
        {
          "data": {
            "text/html": [
              "\n",
              "  <div id=\"df-c9a1d8db-fec9-4b5d-b4f8-beea126501f3\">\n",
              "    <div class=\"colab-df-container\">\n",
              "      <div>\n",
              "<style scoped>\n",
              "    .dataframe tbody tr th:only-of-type {\n",
              "        vertical-align: middle;\n",
              "    }\n",
              "\n",
              "    .dataframe tbody tr th {\n",
              "        vertical-align: top;\n",
              "    }\n",
              "\n",
              "    .dataframe thead th {\n",
              "        text-align: right;\n",
              "    }\n",
              "</style>\n",
              "<table border=\"1\" class=\"dataframe\">\n",
              "  <thead>\n",
              "    <tr style=\"text-align: right;\">\n",
              "      <th></th>\n",
              "      <th>text</th>\n",
              "      <th>label</th>\n",
              "    </tr>\n",
              "  </thead>\n",
              "  <tbody>\n",
              "    <tr>\n",
              "      <th>0</th>\n",
              "      <td>If you decide to eat here, just be aware it is...</td>\n",
              "      <td>2</td>\n",
              "    </tr>\n",
              "    <tr>\n",
              "      <th>1</th>\n",
              "      <td>I've taken a lot of spin classes over the year...</td>\n",
              "      <td>1</td>\n",
              "    </tr>\n",
              "    <tr>\n",
              "      <th>2</th>\n",
              "      <td>Family diner. Had the buffet. Eclectic assortm...</td>\n",
              "      <td>2</td>\n",
              "    </tr>\n",
              "    <tr>\n",
              "      <th>3</th>\n",
              "      <td>Wow!  Yummy, different,  delicious.   Our favo...</td>\n",
              "      <td>1</td>\n",
              "    </tr>\n",
              "    <tr>\n",
              "      <th>4</th>\n",
              "      <td>Cute interior and owner (?) gave us tour of up...</td>\n",
              "      <td>1</td>\n",
              "    </tr>\n",
              "  </tbody>\n",
              "</table>\n",
              "</div>\n",
              "      <button class=\"colab-df-convert\" onclick=\"convertToInteractive('df-c9a1d8db-fec9-4b5d-b4f8-beea126501f3')\"\n",
              "              title=\"Convert this dataframe to an interactive table.\"\n",
              "              style=\"display:none;\">\n",
              "        \n",
              "  <svg xmlns=\"http://www.w3.org/2000/svg\" height=\"24px\"viewBox=\"0 0 24 24\"\n",
              "       width=\"24px\">\n",
              "    <path d=\"M0 0h24v24H0V0z\" fill=\"none\"/>\n",
              "    <path d=\"M18.56 5.44l.94 2.06.94-2.06 2.06-.94-2.06-.94-.94-2.06-.94 2.06-2.06.94zm-11 1L8.5 8.5l.94-2.06 2.06-.94-2.06-.94L8.5 2.5l-.94 2.06-2.06.94zm10 10l.94 2.06.94-2.06 2.06-.94-2.06-.94-.94-2.06-.94 2.06-2.06.94z\"/><path d=\"M17.41 7.96l-1.37-1.37c-.4-.4-.92-.59-1.43-.59-.52 0-1.04.2-1.43.59L10.3 9.45l-7.72 7.72c-.78.78-.78 2.05 0 2.83L4 21.41c.39.39.9.59 1.41.59.51 0 1.02-.2 1.41-.59l7.78-7.78 2.81-2.81c.8-.78.8-2.07 0-2.86zM5.41 20L4 18.59l7.72-7.72 1.47 1.35L5.41 20z\"/>\n",
              "  </svg>\n",
              "      </button>\n",
              "      \n",
              "  <style>\n",
              "    .colab-df-container {\n",
              "      display:flex;\n",
              "      flex-wrap:wrap;\n",
              "      gap: 12px;\n",
              "    }\n",
              "\n",
              "    .colab-df-convert {\n",
              "      background-color: #E8F0FE;\n",
              "      border: none;\n",
              "      border-radius: 50%;\n",
              "      cursor: pointer;\n",
              "      display: none;\n",
              "      fill: #1967D2;\n",
              "      height: 32px;\n",
              "      padding: 0 0 0 0;\n",
              "      width: 32px;\n",
              "    }\n",
              "\n",
              "    .colab-df-convert:hover {\n",
              "      background-color: #E2EBFA;\n",
              "      box-shadow: 0px 1px 2px rgba(60, 64, 67, 0.3), 0px 1px 3px 1px rgba(60, 64, 67, 0.15);\n",
              "      fill: #174EA6;\n",
              "    }\n",
              "\n",
              "    [theme=dark] .colab-df-convert {\n",
              "      background-color: #3B4455;\n",
              "      fill: #D2E3FC;\n",
              "    }\n",
              "\n",
              "    [theme=dark] .colab-df-convert:hover {\n",
              "      background-color: #434B5C;\n",
              "      box-shadow: 0px 1px 3px 1px rgba(0, 0, 0, 0.15);\n",
              "      filter: drop-shadow(0px 1px 2px rgba(0, 0, 0, 0.3));\n",
              "      fill: #FFFFFF;\n",
              "    }\n",
              "  </style>\n",
              "\n",
              "      <script>\n",
              "        const buttonEl =\n",
              "          document.querySelector('#df-c9a1d8db-fec9-4b5d-b4f8-beea126501f3 button.colab-df-convert');\n",
              "        buttonEl.style.display =\n",
              "          google.colab.kernel.accessAllowed ? 'block' : 'none';\n",
              "\n",
              "        async function convertToInteractive(key) {\n",
              "          const element = document.querySelector('#df-c9a1d8db-fec9-4b5d-b4f8-beea126501f3');\n",
              "          const dataTable =\n",
              "            await google.colab.kernel.invokeFunction('convertToInteractive',\n",
              "                                                     [key], {});\n",
              "          if (!dataTable) return;\n",
              "\n",
              "          const docLinkHtml = 'Like what you see? Visit the ' +\n",
              "            '<a target=\"_blank\" href=https://colab.research.google.com/notebooks/data_table.ipynb>data table notebook</a>'\n",
              "            + ' to learn more about interactive tables.';\n",
              "          element.innerHTML = '';\n",
              "          dataTable['output_type'] = 'display_data';\n",
              "          await google.colab.output.renderOutput(dataTable, element);\n",
              "          const docLink = document.createElement('div');\n",
              "          docLink.innerHTML = docLinkHtml;\n",
              "          element.appendChild(docLink);\n",
              "        }\n",
              "      </script>\n",
              "    </div>\n",
              "  </div>\n",
              "  "
            ],
            "text/plain": [
              "                                                text  label\n",
              "0  If you decide to eat here, just be aware it is...      2\n",
              "1  I've taken a lot of spin classes over the year...      1\n",
              "2  Family diner. Had the buffet. Eclectic assortm...      2\n",
              "3  Wow!  Yummy, different,  delicious.   Our favo...      1\n",
              "4  Cute interior and owner (?) gave us tour of up...      1"
            ]
          },
          "execution_count": 5,
          "metadata": {},
          "output_type": "execute_result"
        }
      ],
      "source": [
        "df = pd.read_csv('./drive/MyDrive/review_50k.csv', index_col=0)\n",
        "df.head()"
      ]
    },
    {
      "cell_type": "code",
      "execution_count": 6,
      "metadata": {
        "colab": {
          "base_uri": "https://localhost:8080/",
          "height": 419
        },
        "id": "FnMiliWAU7Rf",
        "outputId": "3245ac65-6e41-4837-f251-d99a85e4f33e"
      },
      "outputs": [
        {
          "data": {
            "text/html": [
              "\n",
              "  <div id=\"df-020ada29-a457-45bd-89ff-606a5515c829\">\n",
              "    <div class=\"colab-df-container\">\n",
              "      <div>\n",
              "<style scoped>\n",
              "    .dataframe tbody tr th:only-of-type {\n",
              "        vertical-align: middle;\n",
              "    }\n",
              "\n",
              "    .dataframe tbody tr th {\n",
              "        vertical-align: top;\n",
              "    }\n",
              "\n",
              "    .dataframe thead th {\n",
              "        text-align: right;\n",
              "    }\n",
              "</style>\n",
              "<table border=\"1\" class=\"dataframe\">\n",
              "  <thead>\n",
              "    <tr style=\"text-align: right;\">\n",
              "      <th></th>\n",
              "      <th>text</th>\n",
              "      <th>label</th>\n",
              "    </tr>\n",
              "  </thead>\n",
              "  <tbody>\n",
              "    <tr>\n",
              "      <th>1</th>\n",
              "      <td>I've taken a lot of spin classes over the year...</td>\n",
              "      <td>1</td>\n",
              "    </tr>\n",
              "    <tr>\n",
              "      <th>3</th>\n",
              "      <td>Wow!  Yummy, different,  delicious.   Our favo...</td>\n",
              "      <td>1</td>\n",
              "    </tr>\n",
              "    <tr>\n",
              "      <th>4</th>\n",
              "      <td>Cute interior and owner (?) gave us tour of up...</td>\n",
              "      <td>1</td>\n",
              "    </tr>\n",
              "    <tr>\n",
              "      <th>5</th>\n",
              "      <td>I am a long term frequent customer of this est...</td>\n",
              "      <td>0</td>\n",
              "    </tr>\n",
              "    <tr>\n",
              "      <th>6</th>\n",
              "      <td>Loved this tour! I grabbed a groupon and the p...</td>\n",
              "      <td>1</td>\n",
              "    </tr>\n",
              "    <tr>\n",
              "      <th>...</th>\n",
              "      <td>...</td>\n",
              "      <td>...</td>\n",
              "    </tr>\n",
              "    <tr>\n",
              "      <th>49994</th>\n",
              "      <td>I know I'm one of the few who seem to have had...</td>\n",
              "      <td>0</td>\n",
              "    </tr>\n",
              "    <tr>\n",
              "      <th>49995</th>\n",
              "      <td>Came here first for breakfast and had their yu...</td>\n",
              "      <td>1</td>\n",
              "    </tr>\n",
              "    <tr>\n",
              "      <th>49996</th>\n",
              "      <td>Food was good. I had a decent breakfast but no...</td>\n",
              "      <td>0</td>\n",
              "    </tr>\n",
              "    <tr>\n",
              "      <th>49998</th>\n",
              "      <td>Best shrimp on the beach!  Steamed to order, d...</td>\n",
              "      <td>1</td>\n",
              "    </tr>\n",
              "    <tr>\n",
              "      <th>49999</th>\n",
              "      <td>The hotel is very nice and clean, and looks fa...</td>\n",
              "      <td>1</td>\n",
              "    </tr>\n",
              "  </tbody>\n",
              "</table>\n",
              "<p>44323 rows × 2 columns</p>\n",
              "</div>\n",
              "      <button class=\"colab-df-convert\" onclick=\"convertToInteractive('df-020ada29-a457-45bd-89ff-606a5515c829')\"\n",
              "              title=\"Convert this dataframe to an interactive table.\"\n",
              "              style=\"display:none;\">\n",
              "        \n",
              "  <svg xmlns=\"http://www.w3.org/2000/svg\" height=\"24px\"viewBox=\"0 0 24 24\"\n",
              "       width=\"24px\">\n",
              "    <path d=\"M0 0h24v24H0V0z\" fill=\"none\"/>\n",
              "    <path d=\"M18.56 5.44l.94 2.06.94-2.06 2.06-.94-2.06-.94-.94-2.06-.94 2.06-2.06.94zm-11 1L8.5 8.5l.94-2.06 2.06-.94-2.06-.94L8.5 2.5l-.94 2.06-2.06.94zm10 10l.94 2.06.94-2.06 2.06-.94-2.06-.94-.94-2.06-.94 2.06-2.06.94z\"/><path d=\"M17.41 7.96l-1.37-1.37c-.4-.4-.92-.59-1.43-.59-.52 0-1.04.2-1.43.59L10.3 9.45l-7.72 7.72c-.78.78-.78 2.05 0 2.83L4 21.41c.39.39.9.59 1.41.59.51 0 1.02-.2 1.41-.59l7.78-7.78 2.81-2.81c.8-.78.8-2.07 0-2.86zM5.41 20L4 18.59l7.72-7.72 1.47 1.35L5.41 20z\"/>\n",
              "  </svg>\n",
              "      </button>\n",
              "      \n",
              "  <style>\n",
              "    .colab-df-container {\n",
              "      display:flex;\n",
              "      flex-wrap:wrap;\n",
              "      gap: 12px;\n",
              "    }\n",
              "\n",
              "    .colab-df-convert {\n",
              "      background-color: #E8F0FE;\n",
              "      border: none;\n",
              "      border-radius: 50%;\n",
              "      cursor: pointer;\n",
              "      display: none;\n",
              "      fill: #1967D2;\n",
              "      height: 32px;\n",
              "      padding: 0 0 0 0;\n",
              "      width: 32px;\n",
              "    }\n",
              "\n",
              "    .colab-df-convert:hover {\n",
              "      background-color: #E2EBFA;\n",
              "      box-shadow: 0px 1px 2px rgba(60, 64, 67, 0.3), 0px 1px 3px 1px rgba(60, 64, 67, 0.15);\n",
              "      fill: #174EA6;\n",
              "    }\n",
              "\n",
              "    [theme=dark] .colab-df-convert {\n",
              "      background-color: #3B4455;\n",
              "      fill: #D2E3FC;\n",
              "    }\n",
              "\n",
              "    [theme=dark] .colab-df-convert:hover {\n",
              "      background-color: #434B5C;\n",
              "      box-shadow: 0px 1px 3px 1px rgba(0, 0, 0, 0.15);\n",
              "      filter: drop-shadow(0px 1px 2px rgba(0, 0, 0, 0.3));\n",
              "      fill: #FFFFFF;\n",
              "    }\n",
              "  </style>\n",
              "\n",
              "      <script>\n",
              "        const buttonEl =\n",
              "          document.querySelector('#df-020ada29-a457-45bd-89ff-606a5515c829 button.colab-df-convert');\n",
              "        buttonEl.style.display =\n",
              "          google.colab.kernel.accessAllowed ? 'block' : 'none';\n",
              "\n",
              "        async function convertToInteractive(key) {\n",
              "          const element = document.querySelector('#df-020ada29-a457-45bd-89ff-606a5515c829');\n",
              "          const dataTable =\n",
              "            await google.colab.kernel.invokeFunction('convertToInteractive',\n",
              "                                                     [key], {});\n",
              "          if (!dataTable) return;\n",
              "\n",
              "          const docLinkHtml = 'Like what you see? Visit the ' +\n",
              "            '<a target=\"_blank\" href=https://colab.research.google.com/notebooks/data_table.ipynb>data table notebook</a>'\n",
              "            + ' to learn more about interactive tables.';\n",
              "          element.innerHTML = '';\n",
              "          dataTable['output_type'] = 'display_data';\n",
              "          await google.colab.output.renderOutput(dataTable, element);\n",
              "          const docLink = document.createElement('div');\n",
              "          docLink.innerHTML = docLinkHtml;\n",
              "          element.appendChild(docLink);\n",
              "        }\n",
              "      </script>\n",
              "    </div>\n",
              "  </div>\n",
              "  "
            ],
            "text/plain": [
              "                                                    text  label\n",
              "1      I've taken a lot of spin classes over the year...      1\n",
              "3      Wow!  Yummy, different,  delicious.   Our favo...      1\n",
              "4      Cute interior and owner (?) gave us tour of up...      1\n",
              "5      I am a long term frequent customer of this est...      0\n",
              "6      Loved this tour! I grabbed a groupon and the p...      1\n",
              "...                                                  ...    ...\n",
              "49994  I know I'm one of the few who seem to have had...      0\n",
              "49995  Came here first for breakfast and had their yu...      1\n",
              "49996  Food was good. I had a decent breakfast but no...      0\n",
              "49998  Best shrimp on the beach!  Steamed to order, d...      1\n",
              "49999  The hotel is very nice and clean, and looks fa...      1\n",
              "\n",
              "[44323 rows x 2 columns]"
            ]
          },
          "execution_count": 6,
          "metadata": {},
          "output_type": "execute_result"
        }
      ],
      "source": [
        "df = df[df['label']!=2]\n",
        "df['pos'] = ''\n",
        "df"
      ]
    },
    {
      "cell_type": "code",
      "execution_count": 7,
      "metadata": {
        "id": "JJREGEM9WTQN"
      },
      "outputs": [],
      "source": [
        "length = [len(t.split()) for t in df['text']]"
      ]
    },
    {
      "cell_type": "code",
      "execution_count": 8,
      "metadata": {
        "id": "6SNly5W0WgNC"
      },
      "outputs": [],
      "source": [
        "import seaborn as sb"
      ]
    },
    {
      "cell_type": "code",
      "execution_count": 9,
      "metadata": {
        "colab": {
          "base_uri": "https://localhost:8080/",
          "height": 336
        },
        "id": "BpS9O5ZdauDW",
        "outputId": "d559b60c-2ac4-455f-e3df-24d126af22b0"
      },
      "outputs": [
        {
          "name": "stderr",
          "output_type": "stream",
          "text": [
            "/usr/local/lib/python3.7/dist-packages/seaborn/_decorators.py:43: FutureWarning: Pass the following variable as a keyword arg: x. From version 0.12, the only valid positional argument will be `data`, and passing other arguments without an explicit keyword will result in an error or misinterpretation.\n",
            "  FutureWarning\n"
          ]
        },
        {
          "data": {
            "text/plain": [
              "<matplotlib.axes._subplots.AxesSubplot at 0x7f872614dfd0>"
            ]
          },
          "execution_count": 9,
          "metadata": {},
          "output_type": "execute_result"
        },
        {
          "data": {
            "image/png": "[encoded data removed]",
            "text/plain": [
              "<Figure size 432x288 with 1 Axes>"
            ]
          },
          "metadata": {
            "needs_background": "light"
          },
          "output_type": "display_data"
        }
      ],
      "source": [
        "sb.boxplot(length)"
      ]
    },
    {
      "cell_type": "code",
      "execution_count": 10,
      "metadata": {
        "colab": {
          "base_uri": "https://localhost:8080/"
        },
        "id": "OfwnLRAgbFJC",
        "outputId": "8046df6d-8035-4e43-cf8a-c5460d6e6620"
      },
      "outputs": [
        {
          "data": {
            "text/plain": [
              "count    44323.000000\n",
              "mean        98.656251\n",
              "std         91.514822\n",
              "min          1.000000\n",
              "25%         40.000000\n",
              "50%         70.000000\n",
              "75%        125.000000\n",
              "max       1006.000000\n",
              "dtype: float64"
            ]
          },
          "execution_count": 10,
          "metadata": {},
          "output_type": "execute_result"
        }
      ],
      "source": [
        "lth = pd.Series(length)\n",
        "lth.describe()"
      ]
    },
    {
      "cell_type": "code",
      "execution_count": 11,
      "metadata": {
        "id": "QYo-0Aqoa4AS"
      },
      "outputs": [],
      "source": [
        "a = [i for i in length if i>256]"
      ]
    },
    {
      "cell_type": "code",
      "execution_count": 12,
      "metadata": {
        "colab": {
          "base_uri": "https://localhost:8080/"
        },
        "id": "lS9ejdkBa9Vk",
        "outputId": "d2c5ead1-fbf8-4cb7-d7f6-fbb815bc3ecc"
      },
      "outputs": [
        {
          "data": {
            "text/plain": [
              "2601"
            ]
          },
          "execution_count": 12,
          "metadata": {},
          "output_type": "execute_result"
        }
      ],
      "source": [
        "len(a)"
      ]
    },
    {
      "cell_type": "code",
      "execution_count": 13,
      "metadata": {
        "id": "Va6TsWlxb1q6"
      },
      "outputs": [],
      "source": [
        "# Above is distribution of number of words in each review, to decide the MAXLEN for model \n",
        "# (i.e. if review is longer thaan 256 words, we split it into several reviews with the same label)"
      ]
    },
    {
      "cell_type": "code",
      "execution_count": 10,
      "metadata": {
        "id": "CCX6TduhhCLI"
      },
      "outputs": [],
      "source": [
        "EMBEDDING_DIM = 100\n",
        "MAXLEN = 256\n",
        "TRUNCATING = 'post'\n",
        "PADDING = 'post'\n",
        "OOV_TOKEN = \"<OOV>\"\n",
        "SPLIT = 0.2"
      ]
    },
    {
      "cell_type": "code",
      "execution_count": 16,
      "metadata": {
        "colab": {
          "base_uri": "https://localhost:8080/"
        },
        "id": "VJJfuM9AM24b",
        "outputId": "ac135893-cc8f-4177-9e6d-edf6d808f63e"
      },
      "outputs": [
        {
          "name": "stdout",
          "output_type": "stream",
          "text": [
            "Looking in indexes: https://pypi.org/simple, https://us-python.pkg.dev/colab-wheels/public/simple/\n",
            "Requirement already satisfied: langdetect in /usr/local/lib/python3.7/dist-packages (1.0.9)\n",
            "Requirement already satisfied: six in /usr/local/lib/python3.7/dist-packages (from langdetect) (1.15.0)\n"
          ]
        }
      ],
      "source": [
        "!pip install langdetect"
      ]
    },
    {
      "cell_type": "code",
      "execution_count": 17,
      "metadata": {
        "id": "-Xbh82w_gnSw"
      },
      "outputs": [],
      "source": [
        "from langdetect import detect\n",
        "oov_words = []\n",
        "lang_list = []\n",
        "def preprocess(df):\n",
        "  for index, row in df.iterrows():\n",
        "    text = row['text']\n",
        "    try:\n",
        "      lang = detect(text)\n",
        "    except:\n",
        "      lang_list.append(text)\n",
        "      df.drop([index], inplace=True)\n",
        "      continue\n",
        "        \n",
        "    if lang!='en':\n",
        "      lang_list.append(text)\n",
        "      df.drop([index], inplace=True)\n",
        "    else:\n",
        "      doc = nlp(text)\n",
        "      clean_token = []\n",
        "      pos = []\n",
        "      text_part = []\n",
        "      pos_part = []\n",
        "      length = 0\n",
        "      for token in doc:\n",
        "        if length >= MAXLEN:\n",
        "          # print(index, 'start_new')\n",
        "          text_part.append(' '.join(clean_token))\n",
        "          pos_part.append(' '.join(pos))\n",
        "          clean_token = []\n",
        "          pos = []\n",
        "          length = 0\n",
        "        if token.is_oov:\n",
        "          oov_words.append(token.text)\n",
        "        elif token.is_stop == False and token.is_punct == False:\n",
        "          clean_token.append(token.lower_)\n",
        "          pos.append(token.pos_)\n",
        "          length += 1\n",
        "      if clean_token:\n",
        "        text_part.append(' '.join(clean_token))\n",
        "        pos_part.append(' '.join(pos))\n",
        "      df.at[index, 'text'] = text_part\n",
        "      df.at[index, 'pos'] = pos_part"
      ]
    },
    {
      "cell_type": "code",
      "execution_count": 22,
      "metadata": {
        "id": "7FeZgjX0kdDg"
      },
      "outputs": [],
      "source": [
        "preprocess(df)"
      ]
    },
    {
      "cell_type": "code",
      "execution_count": 23,
      "metadata": {
        "colab": {
          "base_uri": "https://localhost:8080/"
        },
        "id": "DwE8JOnuOOuh",
        "outputId": "927b23f9-ed76-4ce4-861f-ea3f70eada87"
      },
      "outputs": [
        {
          "data": {
            "text/plain": [
              "array(['\\n\\n', 'duckfat', 'frenchfries', ..., 'chcago', 'Chicharrone',\n",
              "       '.Come'], dtype=object)"
            ]
          },
          "execution_count": 23,
          "metadata": {},
          "output_type": "execute_result"
        }
      ],
      "source": [
        "oov_series = pd.Series(oov_words)\n",
        "oov_series.unique()"
      ]
    },
    {
      "cell_type": "code",
      "execution_count": null,
      "metadata": {
        "id": "E4LRsGCGVAf9"
      },
      "outputs": [],
      "source": [
        "lang_list"
      ]
    },
    {
      "cell_type": "code",
      "execution_count": 24,
      "metadata": {
        "id": "LCbaE8anme6q"
      },
      "outputs": [],
      "source": [
        "new_df = df.explode(['text', 'pos']).reset_index(drop=True)"
      ]
    },
    {
      "cell_type": "code",
      "execution_count": 25,
      "metadata": {
        "id": "emkloNUDriau"
      },
      "outputs": [],
      "source": [
        "new_df.to_csv('./drive/MyDrive/cleaned.csv')"
      ]
    },
    {
      "cell_type": "code",
      "execution_count": 32,
      "metadata": {
        "colab": {
          "base_uri": "https://localhost:8080/"
        },
        "id": "rPUSpJzGtXyh",
        "outputId": "02bc6fb7-c35f-4bfc-b1c9-e65e505fca37"
      },
      "outputs": [
        {
          "name": "stdout",
          "output_type": "stream",
          "text": [
            "<class 'pandas.core.frame.DataFrame'>\n",
            "RangeIndex: 44410 entries, 0 to 44409\n",
            "Data columns (total 3 columns):\n",
            " #   Column  Non-Null Count  Dtype \n",
            "---  ------  --------------  ----- \n",
            " 0   text    44410 non-null  object\n",
            " 1   label   44410 non-null  int64 \n",
            " 2   pos     44410 non-null  object\n",
            "dtypes: int64(1), object(2)\n",
            "memory usage: 1.0+ MB\n"
          ]
        }
      ],
      "source": [
        "new_df.info()"
      ]
    },
    {
      "cell_type": "code",
      "execution_count": 7,
      "metadata": {
        "id": "fKUNk59t1exR"
      },
      "outputs": [],
      "source": [
        "df = pd.read_csv('./drive/MyDrive/cleaned.csv', index_col=0)"
      ]
    },
    {
      "cell_type": "code",
      "execution_count": 8,
      "metadata": {
        "colab": {
          "base_uri": "https://localhost:8080/"
        },
        "id": "FQWrPWgi9i5r",
        "outputId": "1b94ec80-00d1-4513-cc0a-fd82680adf20"
      },
      "outputs": [
        {
          "name": "stdout",
          "output_type": "stream",
          "text": [
            "<class 'pandas.core.frame.DataFrame'>\n",
            "Int64Index: 44410 entries, 0 to 44409\n",
            "Data columns (total 3 columns):\n",
            " #   Column  Non-Null Count  Dtype \n",
            "---  ------  --------------  ----- \n",
            " 0   text    44410 non-null  object\n",
            " 1   label   44410 non-null  int64 \n",
            " 2   pos     44410 non-null  object\n",
            "dtypes: int64(1), object(2)\n",
            "memory usage: 1.4+ MB\n"
          ]
        }
      ],
      "source": [
        "df.info()"
      ]
    },
    {
      "cell_type": "code",
      "execution_count": 11,
      "metadata": {
        "id": "0gA9bIVdmsSO"
      },
      "outputs": [],
      "source": [
        "from sklearn.model_selection import train_test_split\n",
        "\n",
        "train_df, test_df = train_test_split(df, test_size=SPLIT, random_state=42)\n",
        "train_df, val_df = train_test_split(train_df, test_size=SPLIT, random_state=42)\n",
        "train_list = list(train_df['text'])\n",
        "train_pos_list = list(train_df['pos'])\n",
        "train_labels = np.array(list(train_df['label']))\n",
        "\n",
        "val_list = list(val_df['text'])\n",
        "val_pos_list = list(val_df['pos'])\n",
        "val_labels = np.array(list(val_df['label']))\n",
        "\n",
        "test_list = list(test_df['text'])\n",
        "test_pos_list = list(test_df['pos'])\n",
        "test_labels = np.array(list(test_df['label']))"
      ]
    },
    {
      "cell_type": "code",
      "execution_count": 12,
      "metadata": {
        "colab": {
          "base_uri": "https://localhost:8080/",
          "height": 204
        },
        "id": "mIAfBAk82p7L",
        "outputId": "11263ff1-faee-422f-93c0-5208d683885c"
      },
      "outputs": [
        {
          "data": {
            "text/html": [
              "\n",
              "  <div id=\"df-a55fcc3c-b064-4c3f-8e7f-20398ec9fe4b\">\n",
              "    <div class=\"colab-df-container\">\n",
              "      <div>\n",
              "<style scoped>\n",
              "    .dataframe tbody tr th:only-of-type {\n",
              "        vertical-align: middle;\n",
              "    }\n",
              "\n",
              "    .dataframe tbody tr th {\n",
              "        vertical-align: top;\n",
              "    }\n",
              "\n",
              "    .dataframe thead th {\n",
              "        text-align: right;\n",
              "    }\n",
              "</style>\n",
              "<table border=\"1\" class=\"dataframe\">\n",
              "  <thead>\n",
              "    <tr style=\"text-align: right;\">\n",
              "      <th></th>\n",
              "      <th>text</th>\n",
              "      <th>label</th>\n",
              "      <th>pos</th>\n",
              "    </tr>\n",
              "  </thead>\n",
              "  <tbody>\n",
              "    <tr>\n",
              "      <th>31914</th>\n",
              "      <td>going neptune location 2 years katrina great m...</td>\n",
              "      <td>1</td>\n",
              "      <td>VERB PROPN NOUN NUM NOUN PROPN ADJ VERB VERB A...</td>\n",
              "    </tr>\n",
              "    <tr>\n",
              "      <th>18064</th>\n",
              "      <td>rude rude rude dealt service center twice orig...</td>\n",
              "      <td>0</td>\n",
              "      <td>ADJ ADJ ADJ VERB NOUN NOUN ADV ADV VERB PROPN ...</td>\n",
              "    </tr>\n",
              "    <tr>\n",
              "      <th>25157</th>\n",
              "      <td>venue ridiculous people let crappy acoustics m...</td>\n",
              "      <td>0</td>\n",
              "      <td>NOUN ADJ NOUN VERB ADJ NOUN ADV VERB NOUN</td>\n",
              "    </tr>\n",
              "    <tr>\n",
              "      <th>28972</th>\n",
              "      <td>sushi experience philadelphia chinatown intere...</td>\n",
              "      <td>1</td>\n",
              "      <td>NOUN NOUN PROPN NOUN ADJ NOUN NOUN VERB NOUN A...</td>\n",
              "    </tr>\n",
              "    <tr>\n",
              "      <th>7689</th>\n",
              "      <td>reservations night started w florida calamari ...</td>\n",
              "      <td>1</td>\n",
              "      <td>NOUN NOUN VERB DET PROPN PROPN PROPN NOUN NOUN...</td>\n",
              "    </tr>\n",
              "  </tbody>\n",
              "</table>\n",
              "</div>\n",
              "      <button class=\"colab-df-convert\" onclick=\"convertToInteractive('df-a55fcc3c-b064-4c3f-8e7f-20398ec9fe4b')\"\n",
              "              title=\"Convert this dataframe to an interactive table.\"\n",
              "              style=\"display:none;\">\n",
              "        \n",
              "  <svg xmlns=\"http://www.w3.org/2000/svg\" height=\"24px\"viewBox=\"0 0 24 24\"\n",
              "       width=\"24px\">\n",
              "    <path d=\"M0 0h24v24H0V0z\" fill=\"none\"/>\n",
              "    <path d=\"M18.56 5.44l.94 2.06.94-2.06 2.06-.94-2.06-.94-.94-2.06-.94 2.06-2.06.94zm-11 1L8.5 8.5l.94-2.06 2.06-.94-2.06-.94L8.5 2.5l-.94 2.06-2.06.94zm10 10l.94 2.06.94-2.06 2.06-.94-2.06-.94-.94-2.06-.94 2.06-2.06.94z\"/><path d=\"M17.41 7.96l-1.37-1.37c-.4-.4-.92-.59-1.43-.59-.52 0-1.04.2-1.43.59L10.3 9.45l-7.72 7.72c-.78.78-.78 2.05 0 2.83L4 21.41c.39.39.9.59 1.41.59.51 0 1.02-.2 1.41-.59l7.78-7.78 2.81-2.81c.8-.78.8-2.07 0-2.86zM5.41 20L4 18.59l7.72-7.72 1.47 1.35L5.41 20z\"/>\n",
              "  </svg>\n",
              "      </button>\n",
              "      \n",
              "  <style>\n",
              "    .colab-df-container {\n",
              "      display:flex;\n",
              "      flex-wrap:wrap;\n",
              "      gap: 12px;\n",
              "    }\n",
              "\n",
              "    .colab-df-convert {\n",
              "      background-color: #E8F0FE;\n",
              "      border: none;\n",
              "      border-radius: 50%;\n",
              "      cursor: pointer;\n",
              "      display: none;\n",
              "      fill: #1967D2;\n",
              "      height: 32px;\n",
              "      padding: 0 0 0 0;\n",
              "      width: 32px;\n",
              "    }\n",
              "\n",
              "    .colab-df-convert:hover {\n",
              "      background-color: #E2EBFA;\n",
              "      box-shadow: 0px 1px 2px rgba(60, 64, 67, 0.3), 0px 1px 3px 1px rgba(60, 64, 67, 0.15);\n",
              "      fill: #174EA6;\n",
              "    }\n",
              "\n",
              "    [theme=dark] .colab-df-convert {\n",
              "      background-color: #3B4455;\n",
              "      fill: #D2E3FC;\n",
              "    }\n",
              "\n",
              "    [theme=dark] .colab-df-convert:hover {\n",
              "      background-color: #434B5C;\n",
              "      box-shadow: 0px 1px 3px 1px rgba(0, 0, 0, 0.15);\n",
              "      filter: drop-shadow(0px 1px 2px rgba(0, 0, 0, 0.3));\n",
              "      fill: #FFFFFF;\n",
              "    }\n",
              "  </style>\n",
              "\n",
              "      <script>\n",
              "        const buttonEl =\n",
              "          document.querySelector('#df-a55fcc3c-b064-4c3f-8e7f-20398ec9fe4b button.colab-df-convert');\n",
              "        buttonEl.style.display =\n",
              "          google.colab.kernel.accessAllowed ? 'block' : 'none';\n",
              "\n",
              "        async function convertToInteractive(key) {\n",
              "          const element = document.querySelector('#df-a55fcc3c-b064-4c3f-8e7f-20398ec9fe4b');\n",
              "          const dataTable =\n",
              "            await google.colab.kernel.invokeFunction('convertToInteractive',\n",
              "                                                     [key], {});\n",
              "          if (!dataTable) return;\n",
              "\n",
              "          const docLinkHtml = 'Like what you see? Visit the ' +\n",
              "            '<a target=\"_blank\" href=https://colab.research.google.com/notebooks/data_table.ipynb>data table notebook</a>'\n",
              "            + ' to learn more about interactive tables.';\n",
              "          element.innerHTML = '';\n",
              "          dataTable['output_type'] = 'display_data';\n",
              "          await google.colab.output.renderOutput(dataTable, element);\n",
              "          const docLink = document.createElement('div');\n",
              "          docLink.innerHTML = docLinkHtml;\n",
              "          element.appendChild(docLink);\n",
              "        }\n",
              "      </script>\n",
              "    </div>\n",
              "  </div>\n",
              "  "
            ],
            "text/plain": [
              "                                                    text  label  \\\n",
              "31914  going neptune location 2 years katrina great m...      1   \n",
              "18064  rude rude rude dealt service center twice orig...      0   \n",
              "25157  venue ridiculous people let crappy acoustics m...      0   \n",
              "28972  sushi experience philadelphia chinatown intere...      1   \n",
              "7689   reservations night started w florida calamari ...      1   \n",
              "\n",
              "                                                     pos  \n",
              "31914  VERB PROPN NOUN NUM NOUN PROPN ADJ VERB VERB A...  \n",
              "18064  ADJ ADJ ADJ VERB NOUN NOUN ADV ADV VERB PROPN ...  \n",
              "25157          NOUN ADJ NOUN VERB ADJ NOUN ADV VERB NOUN  \n",
              "28972  NOUN NOUN PROPN NOUN ADJ NOUN NOUN VERB NOUN A...  \n",
              "7689   NOUN NOUN VERB DET PROPN PROPN PROPN NOUN NOUN...  "
            ]
          },
          "execution_count": 12,
          "metadata": {},
          "output_type": "execute_result"
        }
      ],
      "source": [
        "train_df.head()"
      ]
    },
    {
      "cell_type": "code",
      "execution_count": 13,
      "metadata": {
        "id": "DBbX2mfyoGyG"
      },
      "outputs": [],
      "source": [
        "import tensorflow as tf\n",
        "from tensorflow.keras.preprocessing.text import Tokenizer\n",
        "from tensorflow.keras.preprocessing.sequence import pad_sequences\n",
        "\n",
        "\n",
        "tokenizer = Tokenizer(oov_token = OOV_TOKEN)\n",
        "tokenizer.fit_on_texts(train_list)\n",
        "pos_tokenizer = Tokenizer(oov_token = OOV_TOKEN)\n",
        "pos_tokenizer.fit_on_texts(train_pos_list)"
      ]
    },
    {
      "cell_type": "markdown",
      "metadata": {
        "id": "QhCVBkGhwFPb"
      },
      "source": [
        "Global variable `VOCAB_SIZE` defined here"
      ]
    },
    {
      "cell_type": "code",
      "execution_count": 14,
      "metadata": {
        "colab": {
          "base_uri": "https://localhost:8080/"
        },
        "id": "lTRLWerzqF5P",
        "outputId": "19e1934d-4734-492b-e23d-2c2ad63d4f8f"
      },
      "outputs": [
        {
          "name": "stdout",
          "output_type": "stream",
          "text": [
            "Vocabulary contains 31857 words\n",
            "\n",
            "<OOV> token included in vocabulary\n",
            "\n",
            "index of word 'i' should be 1480\n",
            "\n",
            "Vocabulary contains 19 POS tags\n",
            "\n",
            "<OOV> token included in POS\n",
            "\n",
            "index of word 'noun' should be 2\n"
          ]
        }
      ],
      "source": [
        "word_index = tokenizer.word_index\n",
        "pos_index = pos_tokenizer.word_index\n",
        "VOCAB_SIZE = len(word_index)\n",
        "POS_SIZE = len(pos_index)\n",
        "\n",
        "print(f\"Vocabulary contains {VOCAB_SIZE} words\\n\")\n",
        "print(\"<OOV> token included in vocabulary\" if \"<OOV>\" in word_index else \"<OOV> token NOT included in vocabulary\")\n",
        "print(f\"\\nindex of word 'i' should be {word_index['i']}\")\n",
        "print()\n",
        "print(f\"Vocabulary contains {POS_SIZE} POS tags\\n\")\n",
        "print(\"<OOV> token included in POS\" if \"<OOV>\" in pos_index else \"<OOV> token NOT included in POS\")\n",
        "print(f\"\\nindex of word 'noun' should be {pos_index['noun']}\")"
      ]
    },
    {
      "cell_type": "code",
      "execution_count": 15,
      "metadata": {
        "id": "HqN_kPkaLZsb"
      },
      "outputs": [],
      "source": [
        "# Checking the tokenizer is fit correctly on POS tags"
      ]
    },
    {
      "cell_type": "code",
      "execution_count": 16,
      "metadata": {
        "colab": {
          "base_uri": "https://localhost:8080/"
        },
        "id": "XyjCY-qlKbz0",
        "outputId": "8cc16140-75de-4b3d-ea28-af68a42cdb6d"
      },
      "outputs": [
        {
          "data": {
            "text/plain": [
              "array(['VERB', 'PROPN', 'NOUN', 'NUM', 'ADJ', 'ADV', 'SYM', 'DET',\n",
              "       'SCONJ', 'INTJ', 'ADP', 'CCONJ', 'AUX', 'PUNCT', 'PRON', 'X',\n",
              "       'PART', 'SPACE'], dtype=object)"
            ]
          },
          "execution_count": 16,
          "metadata": {},
          "output_type": "execute_result"
        }
      ],
      "source": [
        "allPOS = pd.Series(' '.join(train_pos_list).split())\n",
        "allPOS.unique()"
      ]
    },
    {
      "cell_type": "code",
      "execution_count": 17,
      "metadata": {
        "colab": {
          "base_uri": "https://localhost:8080/"
        },
        "id": "JF8qG8EbJvB7",
        "outputId": "fb37e8c2-9bec-4eb9-f6e6-561881d8bd16"
      },
      "outputs": [
        {
          "data": {
            "text/plain": [
              "{'<OOV>': 1,\n",
              " 'noun': 2,\n",
              " 'verb': 3,\n",
              " 'adj': 4,\n",
              " 'propn': 5,\n",
              " 'adv': 6,\n",
              " 'num': 7,\n",
              " 'adp': 8,\n",
              " 'intj': 9,\n",
              " 'sym': 10,\n",
              " 'aux': 11,\n",
              " 'sconj': 12,\n",
              " 'x': 13,\n",
              " 'part': 14,\n",
              " 'cconj': 15,\n",
              " 'pron': 16,\n",
              " 'det': 17,\n",
              " 'punct': 18,\n",
              " 'space': 19}"
            ]
          },
          "execution_count": 17,
          "metadata": {},
          "output_type": "execute_result"
        }
      ],
      "source": [
        "pos_index"
      ]
    },
    {
      "cell_type": "code",
      "execution_count": 18,
      "metadata": {
        "id": "WJhbKXUqqjPb"
      },
      "outputs": [],
      "source": [
        "def seq_pad_and_trunc(sentences, tokenizer, padding, truncating, maxlen):\n",
        "    \"\"\"\n",
        "    Generates an array of token sequences and pads them to the same length\n",
        "    \n",
        "    Args:\n",
        "        sentences (list of string): list of sentences to tokenize and pad\n",
        "        tokenizer (object): Tokenizer instance containing the word-index dictionary\n",
        "        padding (string): type of padding to use\n",
        "        truncating (string): type of truncating to use\n",
        "        maxlen (int): maximum length of the token sequence\n",
        "    \n",
        "    Returns:\n",
        "        pad_trunc_sequences (array of int): tokenized sentences padded to the same length\n",
        "    \"\"\"        \n",
        "    # Convert sentences to sequences\n",
        "    sequences = tokenizer.texts_to_sequences(sentences)\n",
        "    \n",
        "    # Pad the sequences using the correct padding, truncating and maxlen\n",
        "    pad_trunc_sequences = pad_sequences(sequences, padding=padding, truncating=truncating, maxlen=maxlen)\n",
        "    \n",
        "    return pad_trunc_sequences"
      ]
    },
    {
      "cell_type": "code",
      "execution_count": 19,
      "metadata": {
        "id": "y-IoG69ZrAKG"
      },
      "outputs": [],
      "source": [
        "train_pad_trunc_seq = seq_pad_and_trunc(train_list, tokenizer, PADDING, TRUNCATING, MAXLEN)\n",
        "train_pos_pad_trunc_seq = seq_pad_and_trunc(train_pos_list, pos_tokenizer, PADDING, TRUNCATING, MAXLEN)\n",
        "val_pad_trunc_seq = seq_pad_and_trunc(val_list, tokenizer, PADDING, TRUNCATING, MAXLEN)\n",
        "val_pos_pad_trunc_seq = seq_pad_and_trunc(val_pos_list, pos_tokenizer, PADDING, TRUNCATING, MAXLEN)\n",
        "test_pad_trunc_seq = seq_pad_and_trunc(test_list, tokenizer, PADDING, TRUNCATING, MAXLEN)\n",
        "test_pos_pad_trunc_seq = seq_pad_and_trunc(test_pos_list, pos_tokenizer, PADDING, TRUNCATING, MAXLEN)"
      ]
    },
    {
      "cell_type": "code",
      "execution_count": 20,
      "metadata": {
        "colab": {
          "base_uri": "https://localhost:8080/"
        },
        "id": "TjS3jvHCt-1l",
        "outputId": "5425a028-4254-4efe-bdfc-c451ab964ffb"
      },
      "outputs": [
        {
          "name": "stdout",
          "output_type": "stream",
          "text": [
            "Padded and truncated training sequences have shape: (28422, 256)\n",
            "\n",
            "Padded and truncated validation sequences have shape: (7106, 256)\n"
          ]
        }
      ],
      "source": [
        "print(f\"Padded and truncated training sequences have shape: {train_pad_trunc_seq.shape}\\n\")\n",
        "print(f\"Padded and truncated validation sequences have shape: {val_pad_trunc_seq.shape}\")"
      ]
    },
    {
      "cell_type": "code",
      "execution_count": 21,
      "metadata": {
        "id": "iBkoLLnZufbR"
      },
      "outputs": [],
      "source": [
        "# Define path to file containing the embeddings\n",
        "GLOVE_FILE = './drive/MyDrive/data/glove.6B.100d.txt'\n",
        "\n",
        "# Initialize an empty embeddings index dictionary\n",
        "GLOVE_EMBEDDINGS = {}\n",
        "\n",
        "# Read file and fill GLOVE_EMBEDDINGS with its contents\n",
        "with open(GLOVE_FILE) as f:\n",
        "    for line in f:\n",
        "        values = line.split()\n",
        "        word = values[0]\n",
        "        coefs = np.asarray(values[1:], dtype='float32')\n",
        "        GLOVE_EMBEDDINGS[word] = coefs"
      ]
    },
    {
      "cell_type": "code",
      "execution_count": 22,
      "metadata": {
        "id": "Kdkt8Ec2v3EJ"
      },
      "outputs": [],
      "source": [
        "# Initialize an empty numpy array with the appropriate size\n",
        "EMBEDDINGS_MATRIX = np.zeros((VOCAB_SIZE+1, EMBEDDING_DIM))\n",
        "\n",
        "# Iterate all of the words in the vocabulary and if the vector representation for \n",
        "# each word exists within GloVe's representations, save it in the EMBEDDINGS_MATRIX array\n",
        "for word, i in word_index.items():\n",
        "    embedding_vector = GLOVE_EMBEDDINGS.get(word)\n",
        "    if embedding_vector is not None:\n",
        "        EMBEDDINGS_MATRIX[i] = embedding_vector"
      ]
    },
    {
      "cell_type": "code",
      "execution_count": 23,
      "metadata": {
        "id": "AYxXcoelwpFC"
      },
      "outputs": [],
      "source": [
        "from tensorflow.keras.callbacks import EarlyStopping\n",
        "def create_model(vocab_size, pos_size, embedding_dim, maxlen, embeddings_matrix):\n",
        "    \"\"\"\n",
        "    Creates a binary sentiment classifier model\n",
        "    \n",
        "    Args:\n",
        "        vocab_size (int): size of the vocabulary for the Embedding layer input\n",
        "        pos_size (int): size of the POS list for the Embedding layer input\n",
        "        embedding_dim (int): dimensionality of the Embedding layer output\n",
        "        maxlen (int): length of the input sequences\n",
        "        embeddings_matrix (array): predefined weights of the embeddings\n",
        "    \n",
        "    Returns:\n",
        "        model (tf.keras Model): the sentiment classifier model\n",
        "    \"\"\"\n",
        "    text_input = tf.keras.layers.Input(shape=(maxlen,))\n",
        "    text_embed = tf.keras.layers.Embedding(vocab_size+1, embedding_dim, weights=[embeddings_matrix], trainable=False)(text_input)\n",
        "    pos_input = tf.keras.layers.Input(shape=(maxlen,))\n",
        "    pos_embed = tf.keras.layers.Embedding(pos_size+1, embedding_dim)(pos_input)\n",
        "    cat = tf.keras.layers.Concatenate(axis=1)([text_embed, pos_embed])\n",
        "    x = tf.keras.layers.Bidirectional(tf.keras.layers.LSTM(24, return_sequences=True))(cat)\n",
        "    x = tf.keras.layers.Dropout(0.8)(x)\n",
        "    x = tf.keras.layers.Bidirectional(tf.keras.layers.LSTM(24))(x)\n",
        "    x = tf.keras.layers.Dropout(0.8)(x)\n",
        "    x = tf.keras.layers.Dense(24, activation='relu')(x)\n",
        "    out = tf.keras.layers.Dense(1, activation='sigmoid')(x)\n",
        "    model = tf.keras.Model(inputs=[text_input, pos_input], outputs=[out])\n",
        "    \n",
        "    model.compile(loss='binary_crossentropy',\n",
        "                  optimizer='adam',\n",
        "                  metrics=['accuracy']) \n",
        "\n",
        "    return model"
      ]
    },
    {
      "cell_type": "code",
      "execution_count": 24,
      "metadata": {
        "id": "OEFNB8TIeXms"
      },
      "outputs": [],
      "source": [
        "model = create_model(VOCAB_SIZE, POS_SIZE, EMBEDDING_DIM, MAXLEN, EMBEDDINGS_MATRIX)"
      ]
    },
    {
      "cell_type": "code",
      "execution_count": 25,
      "metadata": {
        "colab": {
          "base_uri": "https://localhost:8080/",
          "height": 113
        },
        "id": "J1mYksV0hny-",
        "outputId": "01613b31-7cfb-43ee-fb7c-5d406283540d"
      },
      "outputs": [
        {
          "data": {
            "image/png": "[encoded data removed]",
            "text/plain": [
              "<IPython.core.display.Image object>"
            ]
          },
          "execution_count": 25,
          "metadata": {},
          "output_type": "execute_result"
        }
      ],
      "source": [
        "import keras\n",
        "keras.utils.plot_model(model, show_shapes=True, rankdir=\"LR\")"
      ]
    },
    {
      "cell_type": "code",
      "execution_count": 26,
      "metadata": {
        "colab": {
          "base_uri": "https://localhost:8080/"
        },
        "id": "M1ocnETHwy_0",
        "outputId": "f524547e-0301-4d9e-85fe-d0b895515fa0"
      },
      "outputs": [
        {
          "name": "stdout",
          "output_type": "stream",
          "text": [
            "Epoch 1/20\n",
            "889/889 [==============================] - 63s 61ms/step - loss: 0.3590 - accuracy: 0.8524 - val_loss: 0.2381 - val_accuracy: 0.9099\n",
            "Epoch 2/20\n",
            "889/889 [==============================] - 49s 55ms/step - loss: 0.2542 - accuracy: 0.9069 - val_loss: 0.2014 - val_accuracy: 0.9232\n",
            "Epoch 3/20\n",
            "889/889 [==============================] - 48s 54ms/step - loss: 0.2233 - accuracy: 0.9193 - val_loss: 0.2541 - val_accuracy: 0.9174\n",
            "Epoch 4/20\n",
            "889/889 [==============================] - 49s 55ms/step - loss: 0.2081 - accuracy: 0.9259 - val_loss: 0.1959 - val_accuracy: 0.9325\n",
            "Epoch 5/20\n",
            "889/889 [==============================] - 48s 54ms/step - loss: 0.1914 - accuracy: 0.9312 - val_loss: 0.2274 - val_accuracy: 0.9158\n",
            "Epoch 6/20\n",
            "889/889 [==============================] - 52s 58ms/step - loss: 0.1826 - accuracy: 0.9354 - val_loss: 0.1879 - val_accuracy: 0.9292\n",
            "Epoch 7/20\n",
            "889/889 [==============================] - 48s 54ms/step - loss: 0.1655 - accuracy: 0.9399 - val_loss: 0.1868 - val_accuracy: 0.9322\n",
            "Epoch 8/20\n",
            "889/889 [==============================] - 48s 54ms/step - loss: 0.1600 - accuracy: 0.9430 - val_loss: 0.1962 - val_accuracy: 0.9319\n",
            "Epoch 9/20\n",
            "889/889 [==============================] - 48s 54ms/step - loss: 0.1476 - accuracy: 0.9494 - val_loss: 0.1899 - val_accuracy: 0.9315\n",
            "Epoch 10/20\n",
            "889/889 [==============================] - 48s 54ms/step - loss: 0.1394 - accuracy: 0.9511 - val_loss: 0.2035 - val_accuracy: 0.9325\n",
            "Epoch 11/20\n",
            "889/889 [==============================] - 48s 54ms/step - loss: 0.1321 - accuracy: 0.9536 - val_loss: 0.2085 - val_accuracy: 0.9327\n",
            "Epoch 12/20\n",
            "889/889 [==============================] - 51s 57ms/step - loss: 0.1229 - accuracy: 0.9571 - val_loss: 0.2044 - val_accuracy: 0.9358\n"
          ]
        }
      ],
      "source": [
        "# Create your untrained model\n",
        "model = create_model(VOCAB_SIZE, POS_SIZE, EMBEDDING_DIM, MAXLEN, EMBEDDINGS_MATRIX)\n",
        "\n",
        "# Train the model and save the training history\n",
        "history = model.fit([train_pad_trunc_seq, train_pos_pad_trunc_seq],\n",
        "                    train_labels, \n",
        "                    epochs=20, \n",
        "                    validation_data=([val_pad_trunc_seq, val_pos_pad_trunc_seq], val_labels),\n",
        "                    callbacks = [EarlyStopping(monitor = 'val_loss', patience=5)])"
      ]
    },
    {
      "cell_type": "code",
      "execution_count": 27,
      "metadata": {
        "colab": {
          "base_uri": "https://localhost:8080/"
        },
        "id": "VWCyJbNcyP_l",
        "outputId": "e82551d6-1d02-4b32-dacb-ee254833b613"
      },
      "outputs": [
        {
          "name": "stdout",
          "output_type": "stream",
          "text": [
            "278/278 - 6s - loss: 0.1769 - accuracy: 0.9402 - 6s/epoch - 21ms/step\n"
          ]
        }
      ],
      "source": [
        "loss, acc = model.evaluate([test_pad_trunc_seq, test_pos_pad_trunc_seq], test_labels, verbose=2)"
      ]
    },
    {
      "cell_type": "code",
      "execution_count": 28,
      "metadata": {
        "id": "wO61KYJ1GXQT"
      },
      "outputs": [],
      "source": [
        "model.save('./drive/MyDrive/data/saved_model/senti_pos_model.h5')"
      ]
    },
    {
      "cell_type": "code",
      "execution_count": 29,
      "metadata": {
        "colab": {
          "base_uri": "https://localhost:8080/"
        },
        "id": "vFtwEd1cISwW",
        "outputId": "d4768f2c-597e-422a-d495-e1f04d9172ea"
      },
      "outputs": [
        {
          "name": "stdout",
          "output_type": "stream",
          "text": [
            "Model: \"model_1\"\n",
            "__________________________________________________________________________________________________\n",
            " Layer (type)                   Output Shape         Param #     Connected to                     \n",
            "==================================================================================================\n",
            " input_3 (InputLayer)           [(None, 256)]        0           []                               \n",
            "                                                                                                  \n",
            " input_4 (InputLayer)           [(None, 256)]        0           []                               \n",
            "                                                                                                  \n",
            " embedding_2 (Embedding)        (None, 256, 100)     3185800     ['input_3[0][0]']                \n",
            "                                                                                                  \n",
            " embedding_3 (Embedding)        (None, 256, 100)     2000        ['input_4[0][0]']                \n",
            "                                                                                                  \n",
            " concatenate_1 (Concatenate)    (None, 512, 100)     0           ['embedding_2[0][0]',            \n",
            "                                                                  'embedding_3[0][0]']            \n",
            "                                                                                                  \n",
            " bidirectional_2 (Bidirectional  (None, 512, 48)     24000       ['concatenate_1[0][0]']          \n",
            " )                                                                                                \n",
            "                                                                                                  \n",
            " dropout_2 (Dropout)            (None, 512, 48)      0           ['bidirectional_2[0][0]']        \n",
            "                                                                                                  \n",
            " bidirectional_3 (Bidirectional  (None, 48)          14016       ['dropout_2[0][0]']              \n",
            " )                                                                                                \n",
            "                                                                                                  \n",
            " dropout_3 (Dropout)            (None, 48)           0           ['bidirectional_3[0][0]']        \n",
            "                                                                                                  \n",
            " dense_2 (Dense)                (None, 24)           1176        ['dropout_3[0][0]']              \n",
            "                                                                                                  \n",
            " dense_3 (Dense)                (None, 1)            25          ['dense_2[0][0]']                \n",
            "                                                                                                  \n",
            "==================================================================================================\n",
            "Total params: 3,227,017\n",
            "Trainable params: 41,217\n",
            "Non-trainable params: 3,185,800\n",
            "__________________________________________________________________________________________________\n"
          ]
        }
      ],
      "source": [
        "new_model = tf.keras.models.load_model('./drive/MyDrive/data/saved_model/senti_pos_model.h5')\n",
        "\n",
        "# Show the model architecture\n",
        "new_model.summary()"
      ]
    }
  ],
  "metadata": {
    "accelerator": "GPU",
    "colab": {
      "provenance": []
    },
    "kernelspec": {
      "display_name": "Python 3",
      "name": "python3"
    },
    "language_info": {
      "name": "python"
    }
  },
  "nbformat": 4,
  "nbformat_minor": 0
}
