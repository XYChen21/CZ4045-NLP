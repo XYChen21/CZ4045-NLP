{
 "cells": [
  {
   "cell_type": "code",
   "execution_count": 1,
   "metadata": {},
   "outputs": [],
   "source": [
    "import pandas as pd\n",
    "\n",
    "def calc_conf(row):\n",
    "    if row['label'] == 1:\n",
    "        return (1-row['conf'])\n",
    "    else:\n",
    "        return row['conf']  \n",
    "\n",
    "def calc_conf_1(row):\n",
    "    if row['label'] == 0:\n",
    "        return (1-row['conf_1'])\n",
    "    else:\n",
    "        return row['conf_1']"
   ]
  },
  {
   "cell_type": "code",
   "execution_count": 2,
   "metadata": {},
   "outputs": [
    {
     "name": "stdout",
     "output_type": "stream",
     "text": [
      "train (49639, 1) test (975, 2)\n"
     ]
    }
   ],
   "source": [
    "train_y = pd.read_csv('/Users/tinac/Downloads/NLP/jupyter/yelp_50k.csv')\n",
    "train_y.drop(train_y.columns.difference(['label']), 1, inplace=True)\n",
    "\n",
    "test_y = pd.read_csv('/Users/tinac/Downloads/NLP/jupyter/labelled_10k.csv')\n",
    "test_y.drop(test_y.columns.difference(['content','label']), 1, inplace=True)\n",
    "\n",
    "# test_y.head()\n",
    "# train_y.head()\n",
    "print(\"train\",train_y.shape, \"test\",test_y.shape)"
   ]
  },
  {
   "cell_type": "code",
   "execution_count": 56,
   "metadata": {},
   "outputs": [
    {
     "name": "stdout",
     "output_type": "stream",
     "text": [
      "(975, 2)\n"
     ]
    }
   ],
   "source": [
    "# MODEL 1: Logistic Regression\n",
    "\n",
    "log_train = pd.read_csv('/Users/tinac/Downloads/NLP/jupyter/log_train.csv')\n",
    "log_train_copy = log_train.copy()\n",
    "log_train ['conf_1'] = log_train.loc[:, 'conf']\n",
    "log_train[\"conf\"] = log_train.apply(calc_conf, axis=1)\n",
    "log_train[\"conf_1\"] = log_train.apply(calc_conf_1, axis=1)\n",
    "log_train.drop(log_train.columns.difference(['conf','conf_1']), 1, inplace=True)\n",
    "\n",
    "# log_train.head()\n",
    "# print(log_train.shape)\n",
    "\n",
    "log_test = pd.read_csv('/Users/tinac/Downloads/NLP/jupyter/log_test.csv')\n",
    "log_test_copy = log_test.copy()\n",
    "log_test ['conf_1'] = log_test.loc[:, 'conf']\n",
    "log_test[\"conf\"] = log_test.apply(calc_conf, axis=1)\n",
    "log_test[\"conf_1\"] = log_test.apply(calc_conf_1, axis=1)\n",
    "log_test.drop(log_test.columns.difference(['conf','conf_1']), 1, inplace=True)\n",
    "\n",
    "\n",
    "# log_test.head()\n",
    "# print(log_test.shape)"
   ]
  },
  {
   "cell_type": "code",
   "execution_count": 58,
   "metadata": {},
   "outputs": [],
   "source": [
    "# MODEL 2: Hugging Face (Transformer)\n",
    "\n",
    "trans_train = pd.read_csv('/Users/tinac/Downloads/NLP/jupyter/trans_train.csv')\n",
    "trans_train = trans_train.rename({'score': 'conf'}, axis=1) \n",
    "trans_train ['conf_1'] = trans_train.loc[:, 'conf']\n",
    "trans_train[\"conf\"] = trans_train.apply(calc_conf, axis=1)\n",
    "trans_train[\"conf_1\"] = trans_train.apply(calc_conf_1, axis=1)\n",
    "trans_train.drop(trans_train.columns.difference(['conf','conf_1']), 1, inplace=True)\n",
    "\n",
    "# trans_train.head()\n",
    "# print(trans_train.shape)\n",
    "\n",
    "trans_test = pd.read_csv('/Users/tinac/Downloads/NLP/jupyter/trans_test.csv')\n",
    "trans_test_copy = trans_test.copy()\n",
    "trans_test = trans_test.rename({'score': 'conf'}, axis=1) \n",
    "trans_test ['conf_1'] = trans_test.loc[:, 'conf']\n",
    "trans_test[\"conf\"] = trans_test.apply(calc_conf, axis=1)\n",
    "trans_test[\"conf_1\"] = trans_test.apply(calc_conf_1, axis=1)\n",
    "trans_test.drop(trans_test.columns.difference(['conf','conf_1']), 1, inplace=True)\n",
    "\n",
    "# trans_test.head()\n",
    "# print(trans_test.shape)"
   ]
  },
  {
   "cell_type": "code",
   "execution_count": 61,
   "metadata": {
    "executionInfo": {
     "elapsed": 16,
     "status": "ok",
     "timestamp": 1667309976619,
     "user": {
      "displayName": "Wei Xing Peng",
      "userId": "04982943231699688030"
     },
     "user_tz": -480
    },
    "id": "KSpfhAXnBzdf"
   },
   "outputs": [],
   "source": [
    "# MODEL 3: NN\n",
    "\n",
    "nn_train = pd.read_csv('/Users/tinac/Downloads/NLP/jupyter/nn_train.csv')\n",
    "nn_train = nn_train.rename({'pred_label': 'label', 'confidence': 'conf'}, axis=1) \n",
    "nn_train ['conf_1'] = nn_train.loc[:, 'conf']\n",
    "nn_train[\"conf\"] = nn_train.apply(calc_conf, axis=1)\n",
    "nn_train[\"conf_1\"] = nn_train.apply(calc_conf_1, axis=1)\n",
    "nn_train.drop(nn_train.columns.difference(['conf','conf_1']), 1, inplace=True)\n",
    "\n",
    "# nn_train.head()\n",
    "# print(nn_train.shape)\n",
    "\n",
    "nn_test = pd.read_csv('/Users/tinac/Downloads/NLP/jupyter/nn_test.csv')\n",
    "nn_test_copy = nn_test.copy()\n",
    "nn_test = nn_test.rename({'pred_label': 'label', 'confidence': 'conf'}, axis=1) \n",
    "nn_test ['conf_1'] = nn_test.loc[:, 'conf']\n",
    "nn_test[\"conf\"] = nn_test.apply(calc_conf, axis=1)\n",
    "nn_test[\"conf_1\"] = nn_test.apply(calc_conf_1, axis=1)\n",
    "nn_test.drop(nn_test.columns.difference(['conf','conf_1']), 1, inplace=True)\n",
    "\n",
    "# nn_test.head()\n",
    "# print(nn_test.shape)"
   ]
  },
  {
   "cell_type": "code",
   "execution_count": 34,
   "metadata": {},
   "outputs": [],
   "source": [
    "# Combining 3 Models\n",
    "\n",
    "df = pd.concat([log_train,trans_train, nn_train], axis=1, ignore_index=True)\n",
    "df.head()\n",
    "\n",
    "trainX = df.to_numpy()\n",
    "trainY = train_y.label.values.tolist()\n",
    "\n",
    "# print(trainX)\n",
    "\n",
    "df2 = pd.concat([log_test,trans_test, nn_test], axis=1, ignore_index=True)\n",
    "\n",
    "testX = df2.to_numpy()\n",
    "testY = test_y.label.values.tolist()\n",
    "testY = [int(x) for x in testY]\n",
    "testY = numpy.array(testY)\n",
    "\n",
    "# print(testY)"
   ]
  },
  {
   "cell_type": "code",
   "execution_count": 32,
   "metadata": {
    "colab": {
     "base_uri": "https://localhost:8080/"
    },
    "executionInfo": {
     "elapsed": 1060,
     "status": "ok",
     "timestamp": 1667310081670,
     "user": {
      "displayName": "Wei Xing Peng",
      "userId": "04982943231699688030"
     },
     "user_tz": -480
    },
    "id": "xD3H05PC9C0o",
    "outputId": "190ae4a8-bdca-463f-a144-ebd11d441a17"
   },
   "outputs": [
    {
     "name": "stdout",
     "output_type": "stream",
     "text": [
      "(49639, 6)\n"
     ]
    }
   ],
   "source": [
    "from sklearn.linear_model import LogisticRegression\n",
    " \n",
    "# fit a model based on the outputs from the ensemble members\n",
    "def fit_stacked_model(train_x, train_y):\n",
    "    model = LogisticRegression()\n",
    "    print(train_x.shape)\n",
    "    model.fit(train_x, train_y)\n",
    "    return model\n",
    "\n",
    "# make a prediction with the stacked model\n",
    "def stacked_prediction(testX):\n",
    "    yhat = model.predict(testX)\n",
    "    return yhat\n",
    " \n",
    "model = fit_stacked_model(trainX, trainY)"
   ]
  },
  {
   "cell_type": "code",
   "execution_count": 66,
   "metadata": {
    "colab": {
     "base_uri": "https://localhost:8080/"
    },
    "executionInfo": {
     "elapsed": 678,
     "status": "ok",
     "timestamp": 1667310082342,
     "user": {
      "displayName": "Wei Xing Peng",
      "userId": "04982943231699688030"
     },
     "user_tz": -480
    },
    "id": "1E3VHmmFHvrr",
    "outputId": "d357bcbd-3e56-4cf0-dccc-ffef8a93c8c0"
   },
   "outputs": [
    {
     "name": "stdout",
     "output_type": "stream",
     "text": [
      "Stacked Test Accuracy: 0.892\n"
     ]
    }
   ],
   "source": [
    "from sklearn.metrics import accuracy_score\n",
    "\n",
    "# evaluate model on test set\n",
    "yhat = stacked_prediction(testX)\n",
    "\n",
    "acc = accuracy_score(testY, yhat)\n",
    "print('Stacked Test Accuracy: %.3f' % acc)"
   ]
  },
  {
   "cell_type": "code",
   "execution_count": 67,
   "metadata": {},
   "outputs": [
    {
     "name": "stdout",
     "output_type": "stream",
     "text": [
      "Logistic Regression Accuracy: 0.837\n",
      "Transformer Accuracy: 0.891\n",
      "Neural Network Accuracy: 0.825\n"
     ]
    }
   ],
   "source": [
    "logX = log_test_copy.label.values.tolist()\n",
    "logX = [int(x) for x in logX]\n",
    "logX = numpy.array(logX)\n",
    "\n",
    "acc1 = accuracy_score(testY, logX)\n",
    "print('Logistic Regression Accuracy: %.3f' % acc1)\n",
    "\n",
    "transX = trans_test_copy.label.values.tolist()\n",
    "transX = [int(x) for x in transX]\n",
    "transX = numpy.array(transX)\n",
    "\n",
    "acc2 = accuracy_score(testY, transX)\n",
    "print('Transformer Accuracy: %.3f' % acc2)\n",
    "\n",
    "nnX = nn_test_copy.pred_label.values.tolist()\n",
    "nnX = [int(x) for x in nnX]\n",
    "nnX = numpy.array(nnX)\n",
    "\n",
    "acc3 = accuracy_score(testY, nnX)\n",
    "print('Neural Network Accuracy: %.3f' % acc3)"
   ]
  }
 ],
 "metadata": {
  "colab": {
   "collapsed_sections": [],
   "provenance": []
  },
  "kernelspec": {
   "display_name": "Python 3",
   "language": "python",
   "name": "python3"
  },
  "language_info": {
   "codemirror_mode": {
    "name": "ipython",
    "version": 3
   },
   "file_extension": ".py",
   "mimetype": "text/x-python",
   "name": "python",
   "nbconvert_exporter": "python",
   "pygments_lexer": "ipython3",
   "version": "3.7.7"
  }
 },
 "nbformat": 4,
 "nbformat_minor": 1
}
